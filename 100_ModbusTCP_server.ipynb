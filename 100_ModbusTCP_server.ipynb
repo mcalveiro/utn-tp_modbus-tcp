{
 "cells": [
  {
   "cell_type": "markdown",
   "metadata": {
    "id": "SuFAooVJuE-Q"
   },
   "source": [
    "## **Importar las librerías necesarias**"
   ]
  },
  {
   "cell_type": "code",
   "execution_count": 1,
   "metadata": {
    "executionInfo": {
     "elapsed": 694,
     "status": "ok",
     "timestamp": 1668002321877,
     "user": {
      "displayName": "Miguel Angel Calveiro",
      "userId": "14152449612899621370"
     },
     "user_tz": 180
    },
    "id": "DSZ7652griqj"
   },
   "outputs": [],
   "source": [
    "from pyModbusTCP.server import ModbusServer\n",
    "import socket"
   ]
  },
  {
   "cell_type": "markdown",
   "metadata": {
    "id": "B6kjyvwBuUR0"
   },
   "source": [
    "## **Obtener la dirección IP y definir el puerto 1502 para la Conexión**"
   ]
  },
  {
   "cell_type": "code",
   "execution_count": 2,
   "metadata": {
    "executionInfo": {
     "elapsed": 428,
     "status": "ok",
     "timestamp": 1668003304169,
     "user": {
      "displayName": "Miguel Angel Calveiro",
      "userId": "14152449612899621370"
     },
     "user_tz": 180
    },
    "id": "23hVGxv3rp9_"
   },
   "outputs": [],
   "source": [
    "hostname = socket.gethostname()\n",
    "server_ip_address = socket.gethostbyname(hostname)\n",
    "server_port = 1502\n"
   ]
  },
  {
   "cell_type": "code",
   "execution_count": 3,
   "metadata": {
    "colab": {
     "base_uri": "https://localhost:8080/"
    },
    "executionInfo": {
     "elapsed": 425,
     "status": "ok",
     "timestamp": 1668003195906,
     "user": {
      "displayName": "Miguel Angel Calveiro",
      "userId": "14152449612899621370"
     },
     "user_tz": 180
    },
    "id": "P7T17qyDuycC",
    "outputId": "6d43a6fe-3375-4b98-b321-25aad4008710"
   },
   "outputs": [
    {
     "name": "stdout",
     "output_type": "stream",
     "text": [
      "La dirección del Host es: 127.0.1.1\n"
     ]
    }
   ],
   "source": [
    "print(\"La dirección del Host es: {}\".format(server_ip_address))"
   ]
  },
  {
   "cell_type": "markdown",
   "metadata": {
    "id": "AuBN96L5vR1F"
   },
   "source": [
    "## **Instancia (Objeto) servidor**"
   ]
  },
  {
   "cell_type": "code",
   "execution_count": 4,
   "metadata": {
    "id": "pIfduKdYr-pg"
   },
   "outputs": [],
   "source": [
    "server = ModbusServer(server_ip_address,server_port,no_block=True)"
   ]
  },
  {
   "cell_type": "markdown",
   "metadata": {
    "id": "Yt6UwipRxP7F",
    "tags": []
   },
   "source": [
    "## **Inicializar servidor**"
   ]
  },
  {
   "cell_type": "code",
   "execution_count": 5,
   "metadata": {
    "executionInfo": {
     "elapsed": 463,
     "status": "ok",
     "timestamp": 1668003809297,
     "user": {
      "displayName": "Miguel Angel Calveiro",
      "userId": "14152449612899621370"
     },
     "user_tz": 180
    },
    "id": "65HkWPJ8xJAc"
   },
   "outputs": [],
   "source": [
    "server.start()"
   ]
  },
  {
   "cell_type": "markdown",
   "metadata": {
    "id": "swOrlxITxlx6"
   },
   "source": [
    "## **Chequear si el servidor se encuentra corriendo**\n"
   ]
  },
  {
   "cell_type": "code",
   "execution_count": 6,
   "metadata": {
    "colab": {
     "base_uri": "https://localhost:8080/"
    },
    "executionInfo": {
     "elapsed": 413,
     "status": "ok",
     "timestamp": 1668003857431,
     "user": {
      "displayName": "Miguel Angel Calveiro",
      "userId": "14152449612899621370"
     },
     "user_tz": 180
    },
    "id": "HdO90d_1xlTD",
    "outputId": "f0195175-34cb-4bf3-9682-baa4a94d6ce2"
   },
   "outputs": [
    {
     "data": {
      "text/plain": [
       "True"
      ]
     },
     "execution_count": 6,
     "metadata": {},
     "output_type": "execute_result"
    }
   ],
   "source": [
    "server.is_run"
   ]
  },
  {
   "cell_type": "markdown",
   "metadata": {},
   "source": [
    "## **Detener el servidor**"
   ]
  },
  {
   "cell_type": "code",
   "execution_count": 14,
   "metadata": {},
   "outputs": [],
   "source": [
    "server.stop()"
   ]
  }
 ],
 "metadata": {
  "colab": {
   "authorship_tag": "ABX9TyMt1JhRrw5mGD0WQK92djHB",
   "provenance": []
  },
  "kernelspec": {
   "display_name": "Python 3 (ipykernel)",
   "language": "python",
   "name": "python3"
  },
  "language_info": {
   "codemirror_mode": {
    "name": "ipython",
    "version": 3
   },
   "file_extension": ".py",
   "mimetype": "text/x-python",
   "name": "python",
   "nbconvert_exporter": "python",
   "pygments_lexer": "ipython3",
   "version": "3.10.6"
  }
 },
 "nbformat": 4,
 "nbformat_minor": 4
}
