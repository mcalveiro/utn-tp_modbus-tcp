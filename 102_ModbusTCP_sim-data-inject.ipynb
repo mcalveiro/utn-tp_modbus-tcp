{
 "cells": [
  {
   "cell_type": "markdown",
   "id": "70c634b4-68c1-412a-9340-92d7f221e802",
   "metadata": {},
   "source": [
    "## **Importación de librerías**"
   ]
  },
  {
   "cell_type": "code",
   "execution_count": 2,
   "id": "aadc0f62-026b-4571-b004-b656a8ab64ed",
   "metadata": {},
   "outputs": [],
   "source": [
    "from pymodbus.constants import Endian\n",
    "from pymodbus.client import ModbusTcpClient\n",
    "from pymodbus.payload import BinaryPayloadBuilder\n",
    "\n",
    "import socket\n",
    "import time\n",
    "import random"
   ]
  },
  {
   "cell_type": "markdown",
   "id": "945568cc-ef17-41d0-8f13-5f82e9e1adfd",
   "metadata": {},
   "source": [
    "## **Obtener la dirección IP del Host y Definir el Port 1502 para la conexión**"
   ]
  },
  {
   "cell_type": "code",
   "execution_count": 3,
   "id": "aefe6e00-fe13-491b-bdf1-d47747296de7",
   "metadata": {},
   "outputs": [],
   "source": [
    "hostname = socket.gethostname()\n",
    "server_ip_address = socket.gethostbyname(hostname)\n",
    "server_port = 1502"
   ]
  },
  {
   "cell_type": "markdown",
   "id": "3f0a561a-33f6-43a4-bced-daa1bdb1e03a",
   "metadata": {},
   "source": [
    "## **Conectar servidor con cliente**"
   ]
  },
  {
   "cell_type": "code",
   "execution_count": 4,
   "id": "a46dfa51-638c-4aff-9cde-7b74295ee400",
   "metadata": {},
   "outputs": [],
   "source": [
    "client = ModbusTcpClient(server_ip_address, server_port)"
   ]
  },
  {
   "cell_type": "markdown",
   "id": "d09846a6-4d20-422f-9907-61ed319189a8",
   "metadata": {},
   "source": [
    "## **Verificación de conexión client-servidor**"
   ]
  },
  {
   "cell_type": "code",
   "execution_count": 5,
   "id": "4d0f1d39-a92a-4b2a-876e-2fdb6e8289cb",
   "metadata": {},
   "outputs": [
    {
     "name": "stdout",
     "output_type": "stream",
     "text": [
      "[+]Info : Connection : True\n"
     ]
    }
   ],
   "source": [
    "print(\"[+]Info : Connection : \" + str(client.connect()))"
   ]
  },
  {
   "cell_type": "markdown",
   "id": "a336d302-2182-47c6-8b7e-542281951aa0",
   "metadata": {},
   "source": [
    "## **Lectura de los valores que ingresan por puerto serie y crear un array con los valores**"
   ]
  },
  {
   "cell_type": "markdown",
   "id": "fb8029d7-71ea-4e3d-bc33-d7b388b65f98",
   "metadata": {},
   "source": [
    "### **Código {...}**"
   ]
  },
  {
   "cell_type": "markdown",
   "id": "74c95ac6-cc97-44a6-8e34-090cea9bec4a",
   "metadata": {},
   "source": [
    "## **Escribir (inyectar) valores en los Holding Register en el servidor**"
   ]
  },
  {
   "cell_type": "code",
   "execution_count": 6,
   "id": "27c95eac-23a8-4b28-a99d-a3ff19b26acc",
   "metadata": {},
   "outputs": [
    {
     "name": "stdout",
     "output_type": "stream",
     "text": [
      "[+]Info : Holding Register: 40000 - Valor: 26 \n",
      "[+]Info : Holding Register: 40001 - Valor: 18 \n",
      "[+]Info : Holding Register: 40002 - Valor: 84 \n",
      "[+]Info : Holding Register: 40003 - Valor: 20 \n",
      "[+]Info : Holding Register: 40004 - Valor: 84 \n",
      "[+]Info : Holding Register: 40005 - Valor: 26 \n",
      "[+]Info : Holding Register: 40006 - Valor: 92 \n",
      "[+]Info : Holding Register: 40007 - Valor: 14 \n",
      "[+]Info : Holding Register: 40008 - Valor: 90 \n",
      "[+]Info : Holding Register: 40009 - Valor: 24 \n"
     ]
    }
   ],
   "source": [
    "for i in range(40000,40010):\n",
    "    # SIMULO VALORES de una PT100\n",
    "    f = random.randrange(0, 100, 2)\n",
    "    \n",
    "    print(f\"[+]Info : Holding Register: {i} - Valor: {f} \")\n",
    "    client.write_registers(i,f)"
   ]
  },
  {
   "cell_type": "code",
   "execution_count": null,
   "id": "a3be2d3b-9683-41db-9d10-4f9b1ff9bc95",
   "metadata": {},
   "outputs": [],
   "source": []
  }
 ],
 "metadata": {
  "kernelspec": {
   "display_name": "Python 3 (ipykernel)",
   "language": "python",
   "name": "python3"
  },
  "language_info": {
   "codemirror_mode": {
    "name": "ipython",
    "version": 3
   },
   "file_extension": ".py",
   "mimetype": "text/x-python",
   "name": "python",
   "nbconvert_exporter": "python",
   "pygments_lexer": "ipython3",
   "version": "3.10.6"
  }
 },
 "nbformat": 4,
 "nbformat_minor": 5
}
